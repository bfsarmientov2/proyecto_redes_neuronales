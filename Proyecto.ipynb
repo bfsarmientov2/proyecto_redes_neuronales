{
  "cells": [
    {
      "attachments": {},
      "cell_type": "markdown",
      "metadata": {
        "id": "Osr3K0U6WZDE"
      },
      "source": [
        "# Detección automática de carcinoma ductal invasivo en imagenes de diapositiva completa con redes neuronales convolucionales"
      ]
    },
    {
      "attachments": {},
      "cell_type": "markdown",
      "metadata": {},
      "source": [
        "Presentado por:\n",
        "- Brian Felipe Sarmiento Valencia\n",
        "- Miguel Angel Rosales Parra"
      ]
    },
    {
      "attachments": {},
      "cell_type": "markdown",
      "metadata": {},
      "source": [
        "## Autores\n",
        "\n",
        "- Angel Cruz-Roa (Universidad Nacional de Colombia, Bogotá, Colombia)\n",
        "- Ajay Basavanhally (Rutgers University, Piscataway, NJ, USA)\n",
        "- Fabio González (Universidad Nacional de Colombia, Bogotá, Colombia)\n",
        "- Hannah Gilmore (University Hospitals, Cleveland, OH, USA)\n",
        "- Michael Feldman (Hospital of the University of Pennsylvania, Philadelphia, PA, USA)\n",
        "- Shridar Ganesan (Cancer Institute of New Jersey, New Brunswick, NJ, USA)\n",
        "- Natalie Shih (Hospital of the University of Pennsylvania, Philadelphia, PA, USA)\n",
        "- John Tomaszewski (University at Buffalo, The State University of New York, Buffalo, NY USA)\n",
        "- Anant Madabhushi (Case Western Reserve University, Cleveland, OH, USA)"
      ]
    },
    {
      "attachments": {},
      "cell_type": "markdown",
      "metadata": {},
      "source": [
        "## Resumen\n",
        "\n",
        "[Este artículo](https://www.researchgate.net/publication/263052166_Automatic_detection_of_invasive_ductal_carcinoma_in_whole_slide_images_with_Convolutional_Neural_Networks) presenta un enfoque de aprendizaje profundo para la detección automática y el análisis visual de regiones de tejido de carcinoma ductal invasivo (IDC) en imágenes de diapositivas completas (WSI) de cáncer de mama (BCa). [Aquí](http://www.andrewjanowczyk.com/use-case-6-invasive-ductal-carcinoma-idc-segmentation/) se encuentra los datos y un resumen."
      ]
    },
    {
      "attachments": {},
      "cell_type": "markdown",
      "metadata": {},
      "source": [
        "### Glosario\n",
        "- *Imágenes histopatológicas:* Las imágenes histopatológicas son imágenes microscópicas de tejidos biológicos que han sido procesados y teñidos con colorantes especiales para mostrar la estructura y la composición de las células y los tejidos. Estas imágenes se utilizan comúnmente en el campo de la patología, que es la rama de la medicina que se encarga del estudio de las enfermedades a través del examen de los tejidos y las células.\n",
        "- *Patología digital:* La patología digital también conocida como patología virtual o patología de imagen, es una rama de la patología que se basa en el análisis de imágenes digitales de tejidos biológicos, en lugar del análisis de muestras de tejido en un microscopio óptico convencional. Esta técnica se utiliza para el diagnóstico, la investigación y la educación en el campo de la patología\n",
        "- *Invasive ductal carcinoma (IDC):* Carcinoma ductal invasivo\n",
        "- *whole slide images (WSI):* Imágenes de diapositivas completas\n",
        "- *breast cancer (BCa):* Cánceres de mama"
      ]
    },
    {
      "attachments": {},
      "cell_type": "markdown",
      "metadata": {},
      "source": [
        "## Introducción\n",
        "\n",
        "El presente trabajo (notebook de Jupyter) tiene como objetivo replicar un modelo de CNN que se hizo para detectar un tipo de Cáncer de mama por medio de imágenes, a continuación se presentan una introducción o resumen que da contexto del problema."
      ]
    },
    {
      "attachments": {},
      "cell_type": "markdown",
      "metadata": {},
      "source": [
        "- El carcinoma ductal invasivo es un tipo de cáncer de seno que se origina en los conductos de leche de la mama y se extiende a través de las paredes de los conductos hacia el tejido mamario circundante. El término \"invasivo\" significa que las células cancerosas han penetrado en el tejido mamario fuera del conducto y pueden diseminarse a otras partes del cuerpo a través del sistema linfático o el torrente sanguíneo.\n",
        "\n",
        "- El carcinoma ductal invasivo (CDI) es el subtipo fenotípico más común de todos los cánceres de mama (BCa) y comprende casi el 80% de ellos.\n",
        "- El primer paso en la caracterización histopatológica del tejido mamario resecado es distinguir entre regiones de tejidos correspondientes a tumores invasivos y tejidos no invasivos o saludables\n",
        "- El enfoque utiliza una clasificación basada en DL en regiones de tejido cuadradas de WSI obtenidas mediante muestreo regular, lo que permite la aplicación del clasificador en toda la superficie de la WSI. \n",
        "- las regiones de tejido se utilizan para la clasificación en el enfoque de aprendizaje profundo. Para ello, se utilizan técnicas de muestreo regular de la imagen completa de histopatología del cáncer de mama (WSI), de manera que se obtienen regiones de tejido cuadradas de tamaño similar. Estas regiones de tejido son luego utilizadas para entrenar el algoritmo de clasificación basado en DL. La idea detrás de utilizar regiones de tejido cuadradas obtenidas por muestreo regular es que esto permite una clasificación más precisa y eficiente, en lugar de clasificar la imagen completa de una sola vez. \n",
        "\n",
        "![Texto alternativo de la imagen](Muestreo.PNG)\n",
        "\n",
        "- Por último, se compara nuestro enfoque de aprendizaje profundo con otros modelos.\n",
        "\n"
      ]
    },
    {
      "attachments": {},
      "cell_type": "markdown",
      "metadata": {
        "id": "JmBUtisXCoWX"
      },
      "source": [
        "## Descripción de los datos"
      ]
    },
    {
      "attachments": {},
      "cell_type": "markdown",
      "metadata": {},
      "source": [
        "El conjunto de datos original consistía en diapositivas de histopatología BCa digitalizadas de 162 mujeres diagnosticadas con IDC en el Hospital de la Universidad de Pensilvania y el Instituto del Cáncer de Nueva Jersey, en otras palabras, son 162 imágenes de diapositivas de montaje completo de muestras de cáncer de mama (BCA) escaneadas a 40x. A partir de eso, se extrajeron 277,524 parches de tamaño 50 x 50 (198,738 IDC negativo y 78,786 IDC positivo) (Como se puede ver hay un desbalanceo de datos). **Se clasifica 1 a los parches IDC y 0 a los No IDC**\n",
        "\n",
        "![Texto alternativo de la imagen](Clasificacion.PNG)"
      ]
    },
    {
      "attachments": {},
      "cell_type": "markdown",
      "metadata": {},
      "source": [
        "## Metodología"
      ]
    },
    {
      "attachments": {},
      "cell_type": "markdown",
      "metadata": {},
      "source": [
        "### Image patch sampling"
      ]
    },
    {
      "attachments": {},
      "cell_type": "markdown",
      "metadata": {},
      "source": [
        "Cada WSI se divide en parches de imagen no superpuestos de 100x100 **(Para el caso de este notebook se utilizan imágenes de 50x50)** píxeles mediante muestreo de cuadrícula. Se descartan los parches con tejido graso o fondo de diapositiva. Para fines de entrenamiento, las regiones que contienen IDC se anotan manualmente por un patólogo y se utilizan para generar una máscara de anotación binaria. Se considera que un parche de imagen es una muestra positiva si al menos el 80% del parche está dentro de la máscara de anotación, de lo contrario se utiliza como muestra negativa."
      ]
    },
    {
      "attachments": {},
      "cell_type": "markdown",
      "metadata": {},
      "source": [
        "### Convolutional Neural Networks"
      ]
    },
    {
      "attachments": {},
      "cell_type": "markdown",
      "metadata": {},
      "source": [
        "Elementos que componen la Red Reuronal Convoluvional"
      ]
    },
    {
      "attachments": {},
      "cell_type": "markdown",
      "metadata": {},
      "source": [
        "- Procesamiento de parches: cada parche se normaliza por medio del maximo\n",
        "- Capa Convolucional: Se aplica convoluciones 2D de los mapas de características de entrada y función de activación *Relu*\n",
        "- Capa de pooling: Esta etapa permite reducir la dimensión original de la representación de la imagen a través de una estrategia de submuestreo que soporta invariantes locales del espacio, para este caso se utilizó el *Maxpooling*\n",
        "- Capa totalmente conectada: Esta capa se aplica típicamente en la capa superior de una arquitectura de CNN para capturar relaciones complejas entre características de alto nivel\n",
        "- Capa Flatten: Se utiliza para convertir los mapas de características bidimensionales (también conocidos como tensores 2D) producidos por las capas convolucionales y de pooling en un vector unidimensional. Esto se hace para poder alimentar los datos a una capa densa completamente conectada, que requiere una entrada unidimensional.\n",
        "- Capa Dropout: Es una técnica de regularización utilizada en redes neuronales que ayuda a prevenir el sobreajuste. Durante el entrenamiento, el Dropout aleatoriamente \"desactiva\" algunas neuronas en la red, lo que significa que su salida se establece en cero.\n",
        "- Capa Dense: La capa Dense en una red neuronal es una capa completamente conectada, en la que cada nodo en la capa anterior está conectado a cada nodo en la capa actual\n",
        "- Algoritmo de optimización: Adam\n",
        "- Función de pérdida: binary_crossentropy\n",
        "- Métrica utilizada en cada época: Accuracy"
      ]
    },
    {
      "attachments": {},
      "cell_type": "markdown",
      "metadata": {},
      "source": [
        "## Arquitectura\n",
        "- Primera capa convolucional, con 32 Kernel's de tamaño (3,3), función de activación RELU y cuyo imput es de tamaño (50,50,3)\n",
        "- Primera capa de pooling por el método de MaxPooling2D y tamaño (2, 2)\n",
        "- Segunda capa convolucional, con 64 Kernel's de tamaño (3,3), función de activación RELU\n",
        "- Segunda capa de pooling por el método de MaxPooling2D y tamaño (2, 2)\n",
        "- Tercera capa convolucional, con 128 Kernel's de tamaño (3,3), función de activación RELU\n",
        "- Cuarta capa convolucional, con 256 Kernel's de tamaño (3,3), función de activación RELU\n",
        "- Capa Flatten, produce un vector unidimensional\n",
        "- Primera capa Dropout con parámetro 0.5, es decir, desactiva la mitad de las neuronas de la red\n",
        "- Primera capa densa con 128 neuronas y función de activación RELU\n",
        "- Segunda capa Dropout con parámetro 0.5, es decir, desactiva la mitad de las neuronas de la red\n",
        "- Segunda capa densa con 128 neuronas y función de activación RELU\n",
        "- Tercer y última capa densa con 1 neurona y función de activación sigmoid que genera la clasificación\n",
        "\n",
        "A continuación se presenta una imagen ilustrativa del modelo que utiliza el artículo, sin embargo el modelo que se propone tienen cambios respecto al original\n",
        "\n",
        "![NNC](Modelo2.PNG)"
      ]
    },
    {
      "attachments": {},
      "cell_type": "markdown",
      "metadata": {},
      "source": [
        "## Métrica"
      ]
    },
    {
      "attachments": {},
      "cell_type": "markdown",
      "metadata": {},
      "source": [
        "La métrica utilizada por los investigadores del artículo es la medida de rendimiento de clasificación avanzada *F1* puesto que esta métrica es una compensación para minimizar simultáneamente los falsos-positivos (FP) y falsos negativos (FN).\n",
        "\n",
        "Recordemos que *F1* se define como \n",
        "\n",
        "$$F1 =  2\\frac{precision*recall}{precision+recall}$$\n",
        "donde,\n",
        "$$precision = \\frac{TP}{TP+FP}$$\n",
        "$$recall = \\frac{TP}{TP+FN}$$\n",
        "Nota: en el artículo también utilizan la métrica BAC (acurracy balanceado)"
      ]
    },
    {
      "attachments": {},
      "cell_type": "markdown",
      "metadata": {},
      "source": [
        "## Comparación y Resultados"
      ]
    },
    {
      "attachments": {},
      "cell_type": "markdown",
      "metadata": {},
      "source": [
        "En el artículo comparan el modelo CNN con otros modelos, los otros modelos se crearon por medio de clasificadores de árboles aleatorios (Random Forest Classifier) partir de características artesanales para evaluar propiedades visuales de las imágenes de histopatología, como la apariencia del tejido, la disposición morfológica y arquitectónica de las células mediante el uso de descriptores basados en color, textura y gráficos, entre otros.\n",
        "\n",
        "![características](Tabla_comparacion.PNG)\n",
        "\n",
        "Resultados de las métricas de los diferentes modelos\n",
        "\n",
        "![medidas](Tabla_comparacion_metricas.PNG)\n",
        "\n",
        "Como se puede observar en la columna de F1 el modelo CNN es el que tiene mejor puntaje con un *0.7180* lo cual indica que las redes neuronales convolucionales son mejores respecto a otros modelos, una gran innovación y una gran herramienta para clasificar. Sin embargo, como para este trabajo se propuso una red convolucional diferente se observará que la métrica F1 mejora."
      ]
    },
    {
      "attachments": {},
      "cell_type": "markdown",
      "metadata": {},
      "source": [
        "## Código"
      ]
    },
    {
      "attachments": {},
      "cell_type": "markdown",
      "metadata": {},
      "source": [
        "### Importe y transformación de los datos"
      ]
    },
    {
      "attachments": {},
      "cell_type": "markdown",
      "metadata": {},
      "source": [
        "Importe de los datos o imágenes"
      ]
    },
    {
      "cell_type": "code",
      "execution_count": 2,
      "metadata": {},
      "outputs": [],
      "source": [
        "import pandas as pd"
      ]
    },
    {
      "cell_type": "code",
      "execution_count": 1,
      "metadata": {
        "id": "WblkZH-Z4ggl"
      },
      "outputs": [],
      "source": [
        "from glob import glob\n",
        "imagenes = glob('C:/Users/USUARIO WINDOWS/OneDrive - Universidad Nacional de Colombia/Documentos/Maestria Actuaria/segundo_semestre/Redes_Neuronales/proyecto/**/*.png', recursive=True)"
      ]
    },
    {
      "attachments": {},
      "cell_type": "markdown",
      "metadata": {
        "id": "Dmm49K-iBrjl"
      },
      "source": [
        "Todas las imágenes se convierten a imágenes a color de 50x50 pixeles"
      ]
    },
    {
      "cell_type": "code",
      "execution_count": 44,
      "metadata": {
        "id": "U11w3CCHYVIU"
      },
      "outputs": [],
      "source": [
        "import cv2\n",
        "import numpy as np\n",
        "def procesarImg(lidx,uidx):\n",
        "    alto = 50\n",
        "    ancho = 50\n",
        "    canales = 3\n",
        "    x = []\n",
        "    y = []\n",
        "    #imagenes[0]\n",
        "    for img in imagenes[lidx:uidx]:\n",
        "        imagenFull = cv2.imread(img)\n",
        "        imageRes = (cv2.resize(imagenFull, (alto,ancho), interpolation=cv2.INTER_CUBIC))\n",
        "        x.append(imageRes)\n",
        "        if img[-10:]==\"class1.png\":\n",
        "            y.append(0)\n",
        "        elif img[-10:]==\"class0.png\":\n",
        "            y.append(1)\n",
        "        else:\n",
        "            return\n",
        "    return x,y"
      ]
    },
    {
      "attachments": {},
      "cell_type": "markdown",
      "metadata": {},
      "source": [
        "Se procesan 50000 imágenes"
      ]
    },
    {
      "cell_type": "code",
      "execution_count": 48,
      "metadata": {
        "id": "U9tcYeZYYXc5"
      },
      "outputs": [],
      "source": [
        "X, Y = procesarImg(7,50007)\n",
        "X = np.array(X)/255"
      ]
    },
    {
      "attachments": {},
      "cell_type": "markdown",
      "metadata": {},
      "source": [
        "Ejemplo de imágen que se utilizará para crear la CNN"
      ]
    },
    {
      "cell_type": "code",
      "execution_count": 51,
      "metadata": {
        "colab": {
          "base_uri": "https://localhost:8080/",
          "height": 287
        },
        "id": "8e1fWF-QGucc",
        "outputId": "eea9ffe7-3a35-4ea5-c40d-f90359786de0"
      },
      "outputs": [
        {
          "data": {
            "image/png": "[encoded data removed]",
            "text/plain": [
              "<Figure size 640x480 with 1 Axes>"
            ]
          },
          "metadata": {},
          "output_type": "display_data"
        }
      ],
      "source": [
        "import matplotlib.pyplot as plt\n",
        "ejemplo=500\n",
        "plt.imshow(X[ejemplo])\n",
        "plt.show()"
      ]
    },
    {
      "attachments": {},
      "cell_type": "markdown",
      "metadata": {
        "id": "V40pKnmRBxM1"
      },
      "source": [
        "Se separan los datos en entrenamiento y test"
      ]
    },
    {
      "cell_type": "code",
      "execution_count": 52,
      "metadata": {
        "colab": {
          "base_uri": "https://localhost:8080/"
        },
        "id": "_uuFVi_xYbtn",
        "outputId": "5f23aabe-b389-443b-804e-6ff6ec0f8023"
      },
      "outputs": [
        {
          "data": {
            "text/plain": [
              "((42500, 50, 50, 3), (7500, 50, 50, 3))"
            ]
          },
          "execution_count": 52,
          "metadata": {},
          "output_type": "execute_result"
        }
      ],
      "source": [
        "from sklearn.model_selection import train_test_split\n",
        "X_train, X_test, y_train, y_test = train_test_split(X,Y,test_size=0.15)\n",
        "X_train.shape, X_test.shape #Dimensiones del conjunto de entrenamiento y testeo"
      ]
    },
    {
      "attachments": {},
      "cell_type": "markdown",
      "metadata": {
        "id": "WH46bSOfCtc7"
      },
      "source": [
        "### Muestreo Aleatorio"
      ]
    },
    {
      "attachments": {},
      "cell_type": "markdown",
      "metadata": {
        "id": "2ZpTVdygB2b9"
      },
      "source": [
        "Los datos están muy desbalanceados, hay el triple de datos de la clase 1 que la clase 0. Para lidiar con esto, vamos a hacer un muestreo de los datos para que queden balanceados"
      ]
    },
    {
      "attachments": {},
      "cell_type": "markdown",
      "metadata": {},
      "source": [
        "Se aplica un reshape para volver los tensores a vectores"
      ]
    },
    {
      "cell_type": "code",
      "execution_count": 53,
      "metadata": {
        "id": "aiYHHZMVYvOW"
      },
      "outputs": [],
      "source": [
        "X_trainFlat = X_train.reshape(X_train.shape[0], -1)\n",
        "X_testFlat = X_test.reshape(X_test.shape[0], -1)"
      ]
    },
    {
      "attachments": {},
      "cell_type": "markdown",
      "metadata": {},
      "source": [
        "Se aplica el método sub-sampling para balancear la base de datos"
      ]
    },
    {
      "cell_type": "code",
      "execution_count": 58,
      "metadata": {
        "colab": {
          "base_uri": "https://localhost:8080/"
        },
        "id": "EhiGpJwWYxQi",
        "outputId": "99de74d4-92e2-4966-e66d-9e11ebfd8485"
      },
      "outputs": [
        {
          "name": "stderr",
          "output_type": "stream",
          "text": [
            "c:\\Users\\USUARIO WINDOWS\\anaconda3\\envs\\BFSV\\lib\\site-packages\\requests\\__init__.py:89: RequestsDependencyWarning: urllib3 (1.26.15) or chardet (3.0.4) doesn't match a supported version!\n",
            "  warnings.warn(\"urllib3 ({}) or chardet ({}) doesn't match a supported \"\n"
          ]
        }
      ],
      "source": [
        "from imblearn.under_sampling import RandomUnderSampler\n",
        "from keras.utils import to_categorical\n",
        "random_under_sampler = RandomUnderSampler(sampling_strategy='majority')\n",
        "#random_under_sampler = RandomUnderSampler(random_state=42)\n",
        "X_trainRos, Y_trainRos = random_under_sampler.fit_resample(X_trainFlat, y_train)\n",
        "X_testRos, Y_testRos = random_under_sampler.fit_resample(X_testFlat, y_test)\n",
        "X_trainRos = X_trainRos.reshape((-1,50,50,3))\n",
        "X_testRos = X_testRos.reshape((-1,50,50,3))\n",
        "#Y_trainRos=to_categorical(Y_trainRos)\n",
        "#Y_testRos=to_categorical(Y_testRos)\n",
        "#(Y_trainRos==1).sum(),(Y_trainRos==0).sum()\n",
        "Y_trainRos = np.array(Y_trainRos)\n",
        "Y_testRos = np.array(Y_testRos)\n",
        "#sum(Y_trainRos), len(Y_trainRos)-sum(Y_trainRos)"
      ]
    },
    {
      "attachments": {},
      "cell_type": "markdown",
      "metadata": {},
      "source": [
        "Se verifican que la cantidad de datos de los dos estados se a igual tanto en el conjunto de datos de entrenamiento como de testeo"
      ]
    },
    {
      "cell_type": "code",
      "execution_count": 67,
      "metadata": {},
      "outputs": [
        {
          "data": {
            "text/html": [
              "<div>\n",
              "<style scoped>\n",
              "    .dataframe tbody tr th:only-of-type {\n",
              "        vertical-align: middle;\n",
              "    }\n",
              "\n",
              "    .dataframe tbody tr th {\n",
              "        vertical-align: top;\n",
              "    }\n",
              "\n",
              "    .dataframe thead th {\n",
              "        text-align: right;\n",
              "    }\n",
              "</style>\n",
              "<table border=\"1\" class=\"dataframe\">\n",
              "  <thead>\n",
              "    <tr style=\"text-align: right;\">\n",
              "      <th></th>\n",
              "      <th>Tamaño conjunto de entreamiento X</th>\n",
              "      <th>Tamaño conjunto de testeo X</th>\n",
              "      <th>Tamaño conjunto de entreamiento Y</th>\n",
              "      <th>Tamaño conjunto de testeo Y</th>\n",
              "      <th>Cantidad de clasificados con 1 conjunto de entrenamiento</th>\n",
              "      <th>Cantidad de clasificados con 0 conjunto de entrenamiento</th>\n",
              "      <th>Cantidad de clasificados con 1 conjunto de testeo</th>\n",
              "      <th>Cantidad de clasificados con 0 conjunto de testeo</th>\n",
              "    </tr>\n",
              "  </thead>\n",
              "  <tbody>\n",
              "    <tr>\n",
              "      <th>0</th>\n",
              "      <td>(20478, 50, 50, 3)</td>\n",
              "      <td>(3682, 50, 50, 3)</td>\n",
              "      <td>(20478,)</td>\n",
              "      <td>(3682,)</td>\n",
              "      <td>10239</td>\n",
              "      <td>10239</td>\n",
              "      <td>1841</td>\n",
              "      <td>1841</td>\n",
              "    </tr>\n",
              "  </tbody>\n",
              "</table>\n",
              "</div>"
            ],
            "text/plain": [
              "  Tamaño conjunto de entreamiento X Tamaño conjunto de testeo X  \\\n",
              "0                (20478, 50, 50, 3)           (3682, 50, 50, 3)   \n",
              "\n",
              "  Tamaño conjunto de entreamiento Y Tamaño conjunto de testeo Y  \\\n",
              "0                          (20478,)                     (3682,)   \n",
              "\n",
              "  Cantidad de clasificados con 1 conjunto de entrenamiento  \\\n",
              "0                                              10239         \n",
              "\n",
              "  Cantidad de clasificados con 0 conjunto de entrenamiento  \\\n",
              "0                                              10239         \n",
              "\n",
              "  Cantidad de clasificados con 1 conjunto de testeo  \\\n",
              "0                                              1841   \n",
              "\n",
              "  Cantidad de clasificados con 0 conjunto de testeo  \n",
              "0                                              1841  "
            ]
          },
          "execution_count": 67,
          "metadata": {},
          "output_type": "execute_result"
        }
      ],
      "source": [
        "tamanos = {\"Tamaño conjunto de entreamiento X\":str(X_trainRos.shape), \"Tamaño conjunto de testeo X\":str(X_testRos.shape),\n",
        "           \"Tamaño conjunto de entreamiento Y\":str(Y_trainRos.shape), \"Tamaño conjunto de testeo Y\":str(Y_testRos.shape),\n",
        "           \"Cantidad de clasificados con 1 conjunto de entrenamiento\": str(sum(Y_trainRos)),  \n",
        "           \"Cantidad de clasificados con 0 conjunto de entrenamiento\": str(len(Y_trainRos)-sum(Y_trainRos)),\n",
        "           \"Cantidad de clasificados con 1 conjunto de testeo\": str(sum(Y_testRos)),\n",
        "           \"Cantidad de clasificados con 0 conjunto de testeo\": str(len(Y_testRos)-sum(Y_testRos))}\n",
        "pd.DataFrame(tamanos, index=[0])"
      ]
    },
    {
      "attachments": {},
      "cell_type": "markdown",
      "metadata": {
        "id": "v3SVZpTnCxpU"
      },
      "source": [
        "## Red Convolucional"
      ]
    },
    {
      "attachments": {},
      "cell_type": "markdown",
      "metadata": {
        "id": "lXN0obDzCCJ4"
      },
      "source": [
        "Ahora vamos a construir la red convolucional"
      ]
    },
    {
      "cell_type": "code",
      "execution_count": 68,
      "metadata": {
        "id": "RKbdjxGQdM9d"
      },
      "outputs": [],
      "source": [
        "from keras.models import Sequential\n",
        "from keras.layers import Conv2D,MaxPooling2D,Flatten,Dense,Dropout"
      ]
    },
    {
      "cell_type": "code",
      "execution_count": 69,
      "metadata": {
        "colab": {
          "base_uri": "https://localhost:8080/"
        },
        "id": "dZ1nvZURY3m_",
        "outputId": "024e848f-4801-449d-f8cd-7d6f415575b7"
      },
      "outputs": [
        {
          "name": "stdout",
          "output_type": "stream",
          "text": [
            "Model: \"sequential\"\n",
            "_________________________________________________________________\n",
            "Layer (type)                 Output Shape              Param #   \n",
            "=================================================================\n",
            "conv2d (Conv2D)              (None, 48, 48, 32)        896       \n",
            "_________________________________________________________________\n",
            "max_pooling2d (MaxPooling2D) (None, 24, 24, 32)        0         \n",
            "_________________________________________________________________\n",
            "conv2d_1 (Conv2D)            (None, 22, 22, 64)        18496     \n",
            "_________________________________________________________________\n",
            "max_pooling2d_1 (MaxPooling2 (None, 11, 11, 64)        0         \n",
            "_________________________________________________________________\n",
            "conv2d_2 (Conv2D)            (None, 9, 9, 128)         73856     \n",
            "_________________________________________________________________\n",
            "conv2d_3 (Conv2D)            (None, 7, 7, 256)         295168    \n",
            "_________________________________________________________________\n",
            "flatten (Flatten)            (None, 12544)             0         \n",
            "_________________________________________________________________\n",
            "dropout (Dropout)            (None, 12544)             0         \n",
            "_________________________________________________________________\n",
            "dense (Dense)                (None, 128)               1605760   \n",
            "_________________________________________________________________\n",
            "dropout_1 (Dropout)          (None, 128)               0         \n",
            "_________________________________________________________________\n",
            "dense_1 (Dense)              (None, 128)               16512     \n",
            "_________________________________________________________________\n",
            "dense_2 (Dense)              (None, 1)                 129       \n",
            "=================================================================\n",
            "Total params: 2,010,817\n",
            "Trainable params: 2,010,817\n",
            "Non-trainable params: 0\n",
            "_________________________________________________________________\n"
          ]
        }
      ],
      "source": [
        "model = Sequential()\n",
        "model.add(Conv2D(32, kernel_size=(3,3),activation='relu',input_shape=(50,50,3)))\n",
        "model.add(MaxPooling2D(pool_size=(2, 2)))\n",
        "model.add(Conv2D(64, (3,3), activation='relu'))\n",
        "model.add(MaxPooling2D(pool_size=(2,2)))\n",
        "model.add(Conv2D(128, (3, 3), activation='relu'))\n",
        "model.add(Conv2D(256, (3, 3), activation='relu'))\n",
        "model.add(Flatten()) \n",
        "model.add(Dropout(0.5))\n",
        "model.add(Dense(128, activation='relu'))\n",
        "model.add(Dropout(0.5))\n",
        "model.add(Dense(128, activation='relu'))\n",
        "model.add(Dense(1, activation='sigmoid'))\n",
        "model.summary()"
      ]
    },
    {
      "cell_type": "code",
      "execution_count": 74,
      "metadata": {
        "colab": {
          "base_uri": "https://localhost:8080/"
        },
        "id": "K6kSLWtCF4Q1",
        "outputId": "3fab1e37-7cb5-4b09-dca2-70970f459a49"
      },
      "outputs": [
        {
          "name": "stdout",
          "output_type": "stream",
          "text": [
            "Cantidad de parametros\n"
          ]
        },
        {
          "data": {
            "text/plain": [
              "(896, 18496, 73856, 295168, 1605760, 16512, 129)"
            ]
          },
          "execution_count": 74,
          "metadata": {},
          "output_type": "execute_result"
        }
      ],
      "source": [
        "print(\"Cantidad de parametros\")\n",
        "32*(3*3*3+1),64*(3*3*32+1),128*(3*3*64+1),256*(3*3*128+1),12544*128+128,128*128+128,128*1+1"
      ]
    },
    {
      "attachments": {},
      "cell_type": "markdown",
      "metadata": {
        "id": "1dqYEoRFCI2z"
      },
      "source": [
        "Como es un problema de clasificación binaria entonces vamos a usar la entropía cruzada como función de perdida y métrica accuracy"
      ]
    },
    {
      "cell_type": "code",
      "execution_count": 121,
      "metadata": {
        "id": "uCVv-AouY8SG"
      },
      "outputs": [],
      "source": [
        "model.compile(loss='binary_crossentropy',optimizer='adam',metrics=['accuracy'])\n",
        "#model.compile(loss='binary_crossentropy', optimizer='adam', metrics=[f1])"
      ]
    },
    {
      "attachments": {},
      "cell_type": "markdown",
      "metadata": {
        "id": "Qxg_0-SbCOrc"
      },
      "source": [
        "Podemos aumentar los datos mediante rotaciones y reflexiones"
      ]
    },
    {
      "cell_type": "code",
      "execution_count": 120,
      "metadata": {
        "id": "qlcWcaFVZMdL"
      },
      "outputs": [],
      "source": [
        "from keras.preprocessing.image import ImageDataGenerator\n",
        "datagen = ImageDataGenerator(\n",
        "    featurewise_center=True, #Booleano. Establecer entrada significa 0 sobre el conjunto de datos, en cuanto a características.\n",
        "    featurewise_std_normalization=True, #Booleano. Divida las entradas por std de la conjunto de datos, en cuanto a características.\n",
        "    rotation_range=180, #Int. Rango de grados para rotaciones aleatorias.\n",
        "    horizontal_flip=True, #Booleano. Voltee aleatoriamente las entradas horizontalmente.\n",
        "    vertical_flip = True) #\tBooleano. Voltee aleatoriamente las entradas verticalmente."
      ]
    },
    {
      "attachments": {},
      "cell_type": "markdown",
      "metadata": {
        "id": "rab0pcMlCabd"
      },
      "source": [
        "Usaremos early stopping y haremos un checkpoint del modelo cada que la pérdida de validación disminuya"
      ]
    },
    {
      "cell_type": "code",
      "execution_count": 122,
      "metadata": {
        "id": "5h82FLI-ZHYx"
      },
      "outputs": [],
      "source": [
        "from keras.callbacks import EarlyStopping,ModelCheckpoint\n",
        "early_stopping_monitor = EarlyStopping(monitor='val_loss', patience=5, mode='min') #Técnica de regularización utilizada para evitar el sobreajuste y\n",
        "#detiene el entrenamiento del modelo antes de que se alcance el número máximo de épocas especificado si no se \n",
        "#observa una mejora en el rendimiento del modelo durante un cierto número de épocas consecutivas\n",
        "model_checkpoint = ModelCheckpoint('best_model.h5', monitor='val_loss', mode='min', verbose=1, save_best_only=True) #Guarda los pesos del mejor modelo"
      ]
    },
    {
      "attachments": {},
      "cell_type": "markdown",
      "metadata": {
        "id": "UfCtC4cDCdtu"
      },
      "source": [
        "### Entrenamiento del modelo CNN"
      ]
    },
    {
      "cell_type": "code",
      "execution_count": 123,
      "metadata": {
        "colab": {
          "base_uri": "https://localhost:8080/"
        },
        "id": "qB4Q8c8wZPr7",
        "outputId": "edc4ab61-b411-4400-e3fc-44d45ae55b02"
      },
      "outputs": [
        {
          "name": "stderr",
          "output_type": "stream",
          "text": [
            "c:\\Users\\USUARIO WINDOWS\\anaconda3\\envs\\BFSV\\lib\\site-packages\\keras_preprocessing\\image\\image_data_generator.py:720: UserWarning: This ImageDataGenerator specifies `featurewise_center`, but it hasn't been fit on any training data. Fit it first by calling `.fit(numpy_data)`.\n",
            "  warnings.warn('This ImageDataGenerator specifies '\n",
            "c:\\Users\\USUARIO WINDOWS\\anaconda3\\envs\\BFSV\\lib\\site-packages\\keras_preprocessing\\image\\image_data_generator.py:728: UserWarning: This ImageDataGenerator specifies `featurewise_std_normalization`, but it hasn't been fit on any training data. Fit it first by calling `.fit(numpy_data)`.\n",
            "  warnings.warn('This ImageDataGenerator specifies '\n"
          ]
        },
        {
          "name": "stdout",
          "output_type": "stream",
          "text": [
            "Epoch 1/50\n",
            "80/79 [==============================] - ETA: 0s - loss: 0.3909 - accuracy: 0.8350\n",
            "Epoch 00001: val_loss improved from inf to 0.38054, saving model to best_model.h5\n",
            "80/79 [==============================] - 55s 681ms/step - loss: 0.3909 - accuracy: 0.8350 - val_loss: 0.3805 - val_accuracy: 0.8411\n",
            "Epoch 2/50\n",
            "80/79 [==============================] - ETA: 0s - loss: 0.3754 - accuracy: 0.8444\n",
            "Epoch 00002: val_loss improved from 0.38054 to 0.36981, saving model to best_model.h5\n",
            "80/79 [==============================] - 48s 602ms/step - loss: 0.3754 - accuracy: 0.8444 - val_loss: 0.3698 - val_accuracy: 0.8498\n",
            "Epoch 3/50\n",
            "80/79 [==============================] - ETA: 0s - loss: 0.3813 - accuracy: 0.8425\n",
            "Epoch 00003: val_loss did not improve from 0.36981\n",
            "80/79 [==============================] - 51s 641ms/step - loss: 0.3813 - accuracy: 0.8425 - val_loss: 0.3807 - val_accuracy: 0.8490\n",
            "Epoch 4/50\n",
            "80/79 [==============================] - ETA: 0s - loss: 0.3843 - accuracy: 0.8409\n",
            "Epoch 00004: val_loss did not improve from 0.36981\n",
            "80/79 [==============================] - 48s 594ms/step - loss: 0.3843 - accuracy: 0.8409 - val_loss: 0.4178 - val_accuracy: 0.8419\n",
            "Epoch 5/50\n",
            "80/79 [==============================] - ETA: 0s - loss: 0.3689 - accuracy: 0.8472\n",
            "Epoch 00005: val_loss did not improve from 0.36981\n",
            "80/79 [==============================] - 51s 632ms/step - loss: 0.3689 - accuracy: 0.8472 - val_loss: 0.3731 - val_accuracy: 0.8509\n",
            "Epoch 6/50\n",
            "80/79 [==============================] - ETA: 0s - loss: 0.3642 - accuracy: 0.8487\n",
            "Epoch 00006: val_loss did not improve from 0.36981\n",
            "80/79 [==============================] - 50s 623ms/step - loss: 0.3642 - accuracy: 0.8487 - val_loss: 0.3910 - val_accuracy: 0.8493\n",
            "Epoch 7/50\n",
            "80/79 [==============================] - ETA: 0s - loss: 0.3644 - accuracy: 0.8479\n",
            "Epoch 00007: val_loss did not improve from 0.36981\n",
            "80/79 [==============================] - 49s 617ms/step - loss: 0.3644 - accuracy: 0.8479 - val_loss: 0.3837 - val_accuracy: 0.8531\n"
          ]
        }
      ],
      "source": [
        "training = model.fit(datagen.flow(X_trainRos,Y_trainRos,batch_size=256),steps_per_epoch=len(X_trainRos) / 256,\n",
        "                      epochs=50,validation_data=(X_testRos, Y_testRos), verbose=1, callbacks=[early_stopping_monitor, model_checkpoint])"
      ]
    },
    {
      "attachments": {},
      "cell_type": "markdown",
      "metadata": {},
      "source": [
        "### Gráficas del histórico de la métrica accuracy y de la función de perdida"
      ]
    },
    {
      "cell_type": "code",
      "execution_count": 124,
      "metadata": {},
      "outputs": [
        {
          "data": {
            "image/png": "[encoded data removed]",
            "text/plain": [
              "<Figure size 640x480 with 1 Axes>"
            ]
          },
          "metadata": {},
          "output_type": "display_data"
        }
      ],
      "source": [
        "plt.plot(training.history['accuracy'],label='Train')\n",
        "plt.plot(training.history['val_accuracy'],label='Test')\n",
        "plt.legend()\n",
        "plt.show()"
      ]
    },
    {
      "cell_type": "code",
      "execution_count": 125,
      "metadata": {},
      "outputs": [
        {
          "data": {
            "text/plain": [
              "<matplotlib.legend.Legend at 0x2250270fe80>"
            ]
          },
          "execution_count": 125,
          "metadata": {},
          "output_type": "execute_result"
        },
        {
          "data": {
            "image/png": "[encoded data removed]",
            "text/plain": [
              "<Figure size 640x480 with 1 Axes>"
            ]
          },
          "metadata": {},
          "output_type": "display_data"
        }
      ],
      "source": [
        "plt.plot(training.history['loss'],label='Train')\n",
        "plt.plot(training.history['val_loss'],label='Test')\n",
        "plt.legend()"
      ]
    },
    {
      "attachments": {},
      "cell_type": "markdown",
      "metadata": {
        "id": "C8aJAA8OC25l"
      },
      "source": [
        "### Validación"
      ]
    },
    {
      "cell_type": "code",
      "execution_count": 126,
      "metadata": {
        "colab": {
          "base_uri": "https://localhost:8080/"
        },
        "id": "75cSCybTZS9r",
        "outputId": "69a84d99-1f6f-40ff-9e31-bbaa1444470b"
      },
      "outputs": [],
      "source": [
        "from keras.models import load_model\n",
        "from sklearn import metrics\n",
        "model = load_model('best_model.h5')\n",
        "y_pred = model.predict_classes(X_testRos)\n",
        "cm = metrics.confusion_matrix(y_true=Y_testRos, y_pred=y_pred)\n",
        "cm1 = cm/sum(cm)*100"
      ]
    },
    {
      "cell_type": "code",
      "execution_count": 127,
      "metadata": {},
      "outputs": [],
      "source": [
        "import matplotlib.pyplot as plt\n",
        "import numpy as np\n",
        "import itertools\n",
        "\n",
        "def plot_confusion_matrix(cm, classes, normalize=False, title='Confusion matrix', cmap=plt.cm.Blues):\n",
        "    \"\"\"\n",
        "    Esta función imprime y traza la matriz de confusión.\n",
        "    \"\"\"\n",
        "    if normalize:\n",
        "        cm = cm.astype('float') / cm.sum(axis=1)[:, np.newaxis]\n",
        "    \n",
        "    plt.imshow(cm, interpolation='nearest', cmap=cmap)\n",
        "    plt.title(title)\n",
        "    plt.colorbar()\n",
        "    tick_marks = np.arange(len(classes))\n",
        "    plt.xticks(tick_marks, classes, rotation=45)\n",
        "    plt.yticks(tick_marks, classes)\n",
        "\n",
        "    fmt = '.2f' if normalize else 'd'\n",
        "    thresh = cm.max() / 2.\n",
        "    for i, j in itertools.product(range(cm.shape[0]), range(cm.shape[1])):\n",
        "        plt.text(j, i, format(cm[i, j], fmt),\n",
        "                 horizontalalignment=\"center\",\n",
        "                 color=\"white\" if cm[i, j] > thresh else \"black\")\n",
        "\n",
        "    plt.tight_layout()\n",
        "    plt.ylabel('Etiqueta verdadera')\n",
        "    plt.xlabel('Etiqueta predicha')"
      ]
    },
    {
      "attachments": {},
      "cell_type": "markdown",
      "metadata": {},
      "source": [
        "### Matriz de confunsión"
      ]
    },
    {
      "cell_type": "code",
      "execution_count": 128,
      "metadata": {},
      "outputs": [
        {
          "data": {
            "text/plain": [
              "(array([[1598,  243],\n",
              "        [ 310, 1531]], dtype=int64),\n",
              " None)"
            ]
          },
          "execution_count": 128,
          "metadata": {},
          "output_type": "execute_result"
        },
        {
          "data": {
            "image/png": "[encoded data removed]",
            "text/plain": [
              "<Figure size 640x480 with 2 Axes>"
            ]
          },
          "metadata": {},
          "output_type": "display_data"
        }
      ],
      "source": [
        "cm, plot_confusion_matrix(cm, [\"0\",\"1\"], normalize=False, title='Confusion matrix', cmap=plt.cm.Blues)"
      ]
    },
    {
      "attachments": {},
      "cell_type": "markdown",
      "metadata": {},
      "source": [
        "### Matriz de confusión porcentual"
      ]
    },
    {
      "cell_type": "code",
      "execution_count": 129,
      "metadata": {},
      "outputs": [
        {
          "data": {
            "text/plain": [
              "array([[83.75262055, 13.69785795],\n",
              "       [16.24737945, 86.30214205]])"
            ]
          },
          "execution_count": 129,
          "metadata": {},
          "output_type": "execute_result"
        }
      ],
      "source": [
        "cm1"
      ]
    },
    {
      "attachments": {},
      "cell_type": "markdown",
      "metadata": {},
      "source": [
        "### Métrica F1"
      ]
    },
    {
      "cell_type": "code",
      "execution_count": 130,
      "metadata": {},
      "outputs": [
        {
          "data": {
            "text/html": [
              "<div>\n",
              "<style scoped>\n",
              "    .dataframe tbody tr th:only-of-type {\n",
              "        vertical-align: middle;\n",
              "    }\n",
              "\n",
              "    .dataframe tbody tr th {\n",
              "        vertical-align: top;\n",
              "    }\n",
              "\n",
              "    .dataframe thead th {\n",
              "        text-align: right;\n",
              "    }\n",
              "</style>\n",
              "<table border=\"1\" class=\"dataframe\">\n",
              "  <thead>\n",
              "    <tr style=\"text-align: right;\">\n",
              "      <th></th>\n",
              "      <th>F1</th>\n",
              "    </tr>\n",
              "  </thead>\n",
              "  <tbody>\n",
              "    <tr>\n",
              "      <th>0</th>\n",
              "      <td>84.702628</td>\n",
              "    </tr>\n",
              "  </tbody>\n",
              "</table>\n",
              "</div>"
            ],
            "text/plain": [
              "          F1\n",
              "0  84.702628"
            ]
          },
          "execution_count": 130,
          "metadata": {},
          "output_type": "execute_result"
        }
      ],
      "source": [
        "from sklearn.metrics import f1_score\n",
        "pd.DataFrame({\"F1\":f1_score(y_true=Y_testRos, y_pred=y_pred)*100}, index=[0])"
      ]
    },
    {
      "attachments": {},
      "cell_type": "markdown",
      "metadata": {},
      "source": [
        "## Conclusiones"
      ]
    },
    {
      "attachments": {},
      "cell_type": "markdown",
      "metadata": {},
      "source": [
        "- La detección automatizada del carcinoma ductal invasivo es un problema desafiante y relevante para el diagnóstico del cáncer de mama.\n",
        "- La mayoría de los trabajos anteriores en la detección de tumores en histopatología abordan este problema combinando diferentes tipos de características diseñadas a mano y algoritmos de aprendizaje automático. En contraste, se presenta un nuevo marco de aprendizaje profundo para la detección automatizada de regiones IDC en WSI de histopatología de cáncer de mama.\n",
        "- Se presenta una nueva aplicación de la CNN en patología digital para el análisis de imágenes visuales y se compara con características diseñadas a mano bien conocidas, se evidencia que este nuevo enfoque es mucho mejor que otro modelos por medio de la métrica *F1*\n",
        "- Este enfoque no hace suposiciones de antemano sobre las características visuales relevantes para representar el contenido de la imagen asociado con el tejido IDC lo cual genera una ventaja.\n",
        "- En este problema, la confiabilidad, la velocidad y la reproducibilidad del clasificador fueron de mayor importancia en comparación con la interpretabilidad de las características, un criterio que se logró con éxito con nuestro clasificador CNN.\n",
        "- La característica más notable de este enfoque es su reproducibilidad en diferentes datos WSI no vistos, que está muy cerca de las anotaciones manuales binarias subjetivas de un patólogo capacitado, proporcionando soporte cuantitativo de sus decisiones. \n",
        "-  El trabajo futuro explorará los efectos de los modelos de CNN con arquitecturas más profundas (es decir, más capas y neuronas) y validación en cohortes más grandes.\n"
      ]
    },
    {
      "attachments": {},
      "cell_type": "markdown",
      "metadata": {},
      "source": [
        "## Bibliografía"
      ]
    },
    {
      "attachments": {},
      "cell_type": "markdown",
      "metadata": {},
      "source": [
        "- Automatic detection of invasive ductal carcinoma in whole slide images with Convolutional Neural Networks [Link artículo](https://www.researchgate.net/publication/263052166_Automatic_detection_of_invasive_ductal_carcinoma_in_whole_slide_images_with_Convolutional_Neural_Networks)\n",
        "\n",
        "- [Pagina sobre más información del artículo y los datos](http://www.andrewjanowczyk.com/use-case-6-invasive-ductal-carcinoma-idc-segmentation/)"
      ]
    }
  ],
  "metadata": {
    "accelerator": "GPU",
    "colab": {
      "collapsed_sections": [
        "1iGd8pp8mmv3",
        "dH5vanIUezLF",
        "Osr3K0U6WZDE",
        "JmBUtisXCoWX",
        "WH46bSOfCtc7",
        "v3SVZpTnCxpU",
        "UfCtC4cDCdtu",
        "C8aJAA8OC25l",
        "z530l-L_Mlkg"
      ],
      "provenance": []
    },
    "kernelspec": {
      "display_name": "Python 3",
      "name": "python3"
    },
    "language_info": {
      "codemirror_mode": {
        "name": "ipython",
        "version": 3
      },
      "file_extension": ".py",
      "mimetype": "text/x-python",
      "name": "python",
      "nbconvert_exporter": "python",
      "pygments_lexer": "ipython3",
      "version": "3.8.16"
    }
  },
  "nbformat": 4,
  "nbformat_minor": 0
}
